{
 "cells": [
  {
   "cell_type": "code",
   "execution_count": 15,
   "metadata": {},
   "outputs": [
    {
     "name": "stdout",
     "output_type": "stream",
     "text": [
      "Сдельная з/п 13500 руб.\n",
      "Начисленная з/п 22032.49 руб.\n",
      "Уплаченные страховые взносы 6653.81 руб.\n",
      "Уплаченный НДФЛ 2864.22 руб.\n",
      "Получит на руки 19497.77 руб.\n"
     ]
    }
   ],
   "source": [
    "while True:\n",
    "    sdelka=int(input('введите сдельное количество нормо-часов'))\n",
    "    tarif=int(input('введите тариф рабочего'))\n",
    "    pfrv=int(input('отработанное количество часов за месяц'))\n",
    "    if pfrv < 721:\n",
    "        break\n",
    "    print('некорректное количество часов')\n",
    "production=sdelka/pfrv*100\n",
    "sdelkaZP=sdelka*tarif\n",
    "print('Сдельная з/п',round(sdelkaZP, 2),'руб.')\n",
    "maxpremia=70\n",
    "procentPremia=maxpremia*production/100\n",
    "ZP=(procentPremia/100+1)*sdelkaZP\n",
    "ZPcYK=ZP*1.15\n",
    "print('Начисленная з/п',round(ZPcYK, 2),'руб.')\n",
    "Ctrvznos=ZPcYK*30.2/100\n",
    "print('Уплаченные страховые взносы',round(Ctrvznos, 2),'руб.')\n",
    "ndfl=ZPcYK*0.13\n",
    "print('Уплаченный НДФЛ',round(ndfl, 2),'руб.')\n",
    "naRuki=ZPcYK/1.13\n",
    "print('Получит на руки',round(naRuki, 2),'руб.')"
   ]
  }
 ],
 "metadata": {
  "kernelspec": {
   "display_name": "Python 3.10.7 64-bit (microsoft store)",
   "language": "python",
   "name": "python3"
  },
  "language_info": {
   "codemirror_mode": {
    "name": "ipython",
    "version": 3
   },
   "file_extension": ".py",
   "mimetype": "text/x-python",
   "name": "python",
   "nbconvert_exporter": "python",
   "pygments_lexer": "ipython3",
   "version": "3.10.8"
  },
  "orig_nbformat": 4,
  "vscode": {
   "interpreter": {
    "hash": "a5624b85a552eb7c7ae55fc8c58863b70b88e7588a29d736a49bd1445cc439db"
   }
  }
 },
 "nbformat": 4,
 "nbformat_minor": 2
}
